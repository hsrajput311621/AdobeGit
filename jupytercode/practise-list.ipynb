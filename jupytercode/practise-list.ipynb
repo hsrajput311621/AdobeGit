{
 "cells": [
  {
   "cell_type": "code",
   "execution_count": 3,
   "id": "a9538f2b",
   "metadata": {},
   "outputs": [
    {
     "name": "stdout",
     "output_type": "stream",
     "text": [
      "[10, 6, 5, 4, 3, 2, 1]\n"
     ]
    }
   ],
   "source": [
    "list = [1,2,3,4,5,6,10]                # function to reverse the list\n",
    "list.reverse()\n",
    "print(list)\n"
   ]
  },
  {
   "cell_type": "code",
   "execution_count": 4,
   "id": "9d89fbce",
   "metadata": {},
   "outputs": [
    {
     "name": "stdout",
     "output_type": "stream",
     "text": [
      "[1, 2, 3, 4, 5, 7, 10]\n"
     ]
    }
   ],
   "source": [
    "list = [1,3,2,4,5,7,10]                   # Func to sort the list in increasing order\n",
    "list.sort()\n",
    "print(list)\n"
   ]
  },
  {
   "cell_type": "code",
   "execution_count": 17,
   "id": "b94f9a86",
   "metadata": {},
   "outputs": [
    {
     "name": "stdout",
     "output_type": "stream",
     "text": [
      "[1, 2, 3, 4, 5, 6, 7, 8, 9, 10]\n"
     ]
    }
   ],
   "source": [
    "list = [1,2,3,4,5,7,8,9,10]                          # adding new element in the desired location of the list.\n",
    "list.insert(5,6)\n",
    "print(list)"
   ]
  },
  {
   "cell_type": "code",
   "execution_count": 14,
   "id": "f923c1e8",
   "metadata": {},
   "outputs": [
    {
     "name": "stdout",
     "output_type": "stream",
     "text": [
      "[1, 2, 3, 4, 5, 6, 10, 11]\n"
     ]
    }
   ],
   "source": [
    "list = [1,2,3,4,5,6,10]\n",
    "list.append(11)                          #add element in last position#\n",
    "print(list)"
   ]
  },
  {
   "cell_type": "code",
   "execution_count": 18,
   "id": "5b67cb9f",
   "metadata": {},
   "outputs": [
    {
     "name": "stdout",
     "output_type": "stream",
     "text": [
      "[1, 2, 3, 4, 5, 6, [7, 8, 9, 10]]\n"
     ]
    }
   ],
   "source": [
    "list1 = [1,2,3,4,5,6]                        # adding new list in the existing list as a nested list \n",
    "list2 = [7,8,9,10]\n",
    "list1.append(list2)\n",
    "print(list1)"
   ]
  },
  {
   "cell_type": "code",
   "execution_count": 19,
   "id": "091fc888",
   "metadata": {},
   "outputs": [
    {
     "name": "stdout",
     "output_type": "stream",
     "text": [
      "[1, 2, 3, 4, 5, 6, 7, 8, 9, 10]\n"
     ]
    }
   ],
   "source": [
    "list1 = [1,2,3,4,5,6]                           # add the new list into the main list as an element\n",
    "list2 = [7,8,9,10]\n",
    "list1.extend(list2)\n",
    "print(list1)"
   ]
  },
  {
   "cell_type": "code",
   "execution_count": 7,
   "id": "eddd3fbd",
   "metadata": {},
   "outputs": [
    {
     "name": "stdout",
     "output_type": "stream",
     "text": [
      "1\n",
      "2\n",
      "3\n",
      "4\n",
      "5\n",
      "6\n",
      "7\n",
      "8\n",
      "9\n",
      "10\n"
     ]
    }
   ],
   "source": [
    "list = [1,2,3,4,5,6,7,8,9,10]                 # iterating the loop to print all the element of the list\n",
    "for i in list:\n",
    "    print(i)\n",
    "    "
   ]
  },
  {
   "cell_type": "code",
   "execution_count": 8,
   "id": "4dddf433",
   "metadata": {},
   "outputs": [
    {
     "name": "stdout",
     "output_type": "stream",
     "text": [
      "[1, 2, 3, 4, 5, 6, 7, 8, 9]\n"
     ]
    }
   ],
   "source": [
    "list = [1,2,3,4,5,6,7,8,9,10]\n",
    "list.pop()                                    #delete element from the top\n",
    "print(list)"
   ]
  },
  {
   "cell_type": "code",
   "execution_count": 9,
   "id": "74a9ecb7",
   "metadata": {},
   "outputs": [
    {
     "name": "stdout",
     "output_type": "stream",
     "text": [
      "[1, 2, 3, 4, 5, 6, 7, 8, 9]\n"
     ]
    }
   ],
   "source": [
    "list = [1,2,3,4,5,6,7,8,9,10]   \n",
    "del list[9]                                    #delete element from index 9\n",
    "print(list)"
   ]
  },
  {
   "cell_type": "code",
   "execution_count": 10,
   "id": "ebdfb060",
   "metadata": {},
   "outputs": [
    {
     "name": "stdout",
     "output_type": "stream",
     "text": [
      "[]\n"
     ]
    }
   ],
   "source": [
    "list = [1,2,3,4,5,6,7,8,9,10]                 #delete the complete list\n",
    "list.clear()\n",
    "print(list)\n"
   ]
  },
  {
   "cell_type": "code",
   "execution_count": 11,
   "id": "6dd134d6",
   "metadata": {},
   "outputs": [
    {
     "name": "stdout",
     "output_type": "stream",
     "text": [
      "[1, 2, 3, 4, 5, 6, 7, 8, 9]\n"
     ]
    }
   ],
   "source": [
    "list = [1,2,3,4,5,6,7,8,9,10]\n",
    "list.remove(10)                              #remove specific element from the list\n",
    "print(list)\n"
   ]
  },
  {
   "cell_type": "code",
   "execution_count": 23,
   "id": "233d9858",
   "metadata": {},
   "outputs": [
    {
     "name": "stdout",
     "output_type": "stream",
     "text": [
      "The element is present Chinut\n",
      "The element is not present Minute\n"
     ]
    }
   ],
   "source": [
    "list = [1,2,3,4,5,6,7,8,9,10]                           # in and not in keyword using if conditional statement.\n",
    "if 2 in list:\n",
    "    print(\"The element is present\" \" \" + \"Chinut\")\n",
    "if 11 not in list:\n",
    "    print(\"The element is not present\" \" \" + \"Minute\")"
   ]
  },
  {
   "cell_type": "code",
   "execution_count": 26,
   "id": "407160f0",
   "metadata": {},
   "outputs": [
    {
     "name": "stdout",
     "output_type": "stream",
     "text": [
      "[1, 3, 5, 7, 9, 11, 13, 15, 17, 19]\n",
      "[1, 3, 5, 7, 9, 19, 17, 15, 13, 11]\n"
     ]
    }
   ],
   "source": [
    "list = [1,3,5,7,9,19,17,15,13,11]                 # sort the list using the sorted function to the copy to the list#\n",
    "sorted_list = sorted(list)\n",
    "print(sorted_list)\n",
    "print(list)\n"
   ]
  },
  {
   "cell_type": "code",
   "execution_count": 25,
   "id": "fbceeedd",
   "metadata": {},
   "outputs": [
    {
     "name": "stdout",
     "output_type": "stream",
     "text": [
      "[1, 3, 5, 7, 9, 11, 13, 15, 17, 19]\n"
     ]
    }
   ],
   "source": [
    "list = [1,3,5,7,9,19,17,15,13,11]                 # sort the list using the sort function on the same list\n",
    "list.sort()\n",
    "print(list)"
   ]
  },
  {
   "cell_type": "code",
   "execution_count": 30,
   "id": "604a83b3",
   "metadata": {},
   "outputs": [
    {
     "name": "stdout",
     "output_type": "stream",
     "text": [
      "the list will be ['Ghur', 'kiu', 'rhe', 'ho', 'bhai']\n"
     ]
    }
   ],
   "source": [
    "s = \"Ghur kiu rhe ho bhai\"                          # convert the string into the list using the split() function\n",
    "slist = s.split()\n",
    "print(\"the list will be\", slist)"
   ]
  },
  {
   "cell_type": "code",
   "execution_count": 32,
   "id": "90e595f4",
   "metadata": {},
   "outputs": [
    {
     "name": "stdout",
     "output_type": "stream",
     "text": [
      "11\n"
     ]
    }
   ],
   "source": [
    "list = [1, 3, 5, 7, 9, 11, 13, 15, 17, 19]            # slicing of the list\n",
    "print(list[-5])\n"
   ]
  },
  {
   "cell_type": "code",
   "execution_count": 33,
   "id": "df24f4b9",
   "metadata": {},
   "outputs": [
    {
     "name": "stdout",
     "output_type": "stream",
     "text": [
      "[10, 9, 8, 7, 6, 5, 4, 3, 2, 1]\n"
     ]
    }
   ],
   "source": [
    "list = [1,2,3,4,5,6,7,8,9,10]                #Reverse of the string using slicing#\n",
    "print(list[-1::-1])\n"
   ]
  },
  {
   "cell_type": "code",
   "execution_count": 34,
   "id": "90b147ed",
   "metadata": {},
   "outputs": [
    {
     "name": "stdout",
     "output_type": "stream",
     "text": [
      "[1, 3, 5, 7, 9]\n"
     ]
    }
   ],
   "source": [
    "list = [1,2,3,4,5,6,7,8,9,10]          # print the list using alternate elements\n",
    "print(list[::2])\n"
   ]
  },
  {
   "cell_type": "code",
   "execution_count": 38,
   "id": "bed4c560",
   "metadata": {},
   "outputs": [
    {
     "name": "stdout",
     "output_type": "stream",
     "text": [
      "4\n"
     ]
    }
   ],
   "source": [
    "list = [1,2,3,3,3,3,7,9,10]                  # it will count the frequency of the element in the \n",
    "frequency = list.count(3)\n",
    "print(frequency)"
   ]
  },
  {
   "cell_type": "code",
   "execution_count": 42,
   "id": "4aabcc5d",
   "metadata": {},
   "outputs": [
    {
     "name": "stdout",
     "output_type": "stream",
     "text": [
      "[0, 1, 4, 9, 16, 25, 36, 49, 64, 81]\n"
     ]
    }
   ],
   "source": [
    "list = []                          # adding element into the list using append or without using list comprehension\n",
    "for i in range(10):\n",
    "    list.append(i*i)\n",
    "print(list)\n"
   ]
  },
  {
   "cell_type": "code",
   "execution_count": 44,
   "id": "2ef6acd3",
   "metadata": {},
   "outputs": [
    {
     "name": "stdout",
     "output_type": "stream",
     "text": [
      "[0, 2, 4, 6, 8, 10, 12, 14, 16, 18]\n"
     ]
    }
   ],
   "source": [
    "list = [2*i for i in range(10)]\n",
    "print(list)\n"
   ]
  },
  {
   "cell_type": "code",
   "execution_count": null,
   "id": "0d9e31db",
   "metadata": {},
   "outputs": [],
   "source": []
  }
 ],
 "metadata": {
  "kernelspec": {
   "display_name": "Python 3 (ipykernel)",
   "language": "python",
   "name": "python3"
  },
  "language_info": {
   "codemirror_mode": {
    "name": "ipython",
    "version": 3
   },
   "file_extension": ".py",
   "mimetype": "text/x-python",
   "name": "python",
   "nbconvert_exporter": "python",
   "pygments_lexer": "ipython3",
   "version": "3.10.4"
  }
 },
 "nbformat": 4,
 "nbformat_minor": 5
}
