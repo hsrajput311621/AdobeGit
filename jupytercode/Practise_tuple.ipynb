{
 "cells": [
  {
   "cell_type": "code",
   "execution_count": 1,
   "id": "c9e0f117",
   "metadata": {},
   "outputs": [
    {
     "name": "stdout",
     "output_type": "stream",
     "text": [
      "(1, 2, 3, 'Chintu', [1, 'mintu', 12, 'hitesh'])\n"
     ]
    }
   ],
   "source": [
    "t = (1,2,3,'Chintu', [1,'mintu',12,'hitesh'])\n",
    "print(t)\n"
   ]
  },
  {
   "cell_type": "code",
   "execution_count": 2,
   "id": "4f7d7493",
   "metadata": {},
   "outputs": [
    {
     "name": "stdout",
     "output_type": "stream",
     "text": [
      "(1, 2, 3, 'Chintu', (1, 'mintu', 12, 'hitesh'))\n"
     ]
    }
   ],
   "source": [
    "t = (1,2,3,'Chintu', (1,'mintu',12,'hitesh'))\n",
    "print(t)"
   ]
  },
  {
   "cell_type": "code",
   "execution_count": 3,
   "id": "6f15182c",
   "metadata": {},
   "outputs": [
    {
     "name": "stdout",
     "output_type": "stream",
     "text": [
      "(1, 'mintu', 12, 'hitesh')\n",
      "(1, 'mintu', 12, 'hitesh')\n",
      "Chintu\n"
     ]
    }
   ],
   "source": [
    "t = (1,2,3,'Chintu', (1,'mintu',12,'hitesh'))               # to print the element of the tuple\n",
    "print(t[4])\n",
    "print(t[-1])\n",
    "print(t[3])"
   ]
  },
  {
   "cell_type": "code",
   "execution_count": 4,
   "id": "ec879956",
   "metadata": {},
   "outputs": [
    {
     "name": "stdout",
     "output_type": "stream",
     "text": [
      "12\n",
      "hitesh\n"
     ]
    }
   ],
   "source": [
    "t = (1,2,3,'Chintu', (1,'mintu',12,'hitesh'))          #to print the element in the nested tuple\n",
    "print(t[4][2])\n",
    "print(t[4][-1])"
   ]
  },
  {
   "cell_type": "code",
   "execution_count": 7,
   "id": "170df941",
   "metadata": {},
   "outputs": [
    {
     "name": "stdout",
     "output_type": "stream",
     "text": [
      "(1, 2, 3, 'Chintu', (1, 'mintu', 12, 'hitesh'))\n",
      "(3, 'Chintu', (1, 'mintu', 12, 'hitesh'))\n",
      "((1, 'mintu', 12, 'hitesh'), 'Chintu', 3, 2, 1)\n"
     ]
    }
   ],
   "source": [
    "t = (1,2,3,'Chintu', (1,'mintu',12,'hitesh'))          # To perform the slicing of the tuple\n",
    "print(t[::1])\n",
    "print(t[2:5])\n",
    "print(t[-1::-1])"
   ]
  },
  {
   "cell_type": "code",
   "execution_count": 8,
   "id": "fe4f3b30",
   "metadata": {},
   "outputs": [
    {
     "name": "stdout",
     "output_type": "stream",
     "text": [
      "(1, 2, 3, 'chintu', 'mintu', 'tom', 'dick', 'harry')\n"
     ]
    }
   ],
   "source": [
    "t = (1,2,3) + ('chintu', 'mintu','tom', 'dick', 'harry')          # to concate the two tuples \n",
    "print(t)\n"
   ]
  },
  {
   "cell_type": "code",
   "execution_count": 11,
   "id": "b97086d7",
   "metadata": {},
   "outputs": [
    {
     "name": "stdout",
     "output_type": "stream",
     "text": [
      "hello  hello  hello  \n"
     ]
    }
   ],
   "source": [
    "t = ((\"hello \" \" \")*3)             # print the string 3 \n",
    "print(t)"
   ]
  },
  {
   "cell_type": "code",
   "execution_count": 13,
   "id": "44d81010",
   "metadata": {},
   "outputs": [],
   "source": [
    "t = (1,2,3,'Chintu', (1,'mintu',12,'hitesh'))    # to delete the tuple using del keyword.\n",
    "del t"
   ]
  },
  {
   "cell_type": "code",
   "execution_count": 20,
   "id": "fa1e54d3",
   "metadata": {},
   "outputs": [
    {
     "name": "stdout",
     "output_type": "stream",
     "text": [
      "number of chintu are   3\n",
      "Number of ones in the tuple are  4\n"
     ]
    }
   ],
   "source": [
    "t = (1,2,1,'Chintu',1,'Chintu',1,'Chintu')      #To check the number of counts or frequency of an element in the tuple\n",
    "freq = t.count(1)\n",
    "print(\"Number of chintu are \" \" \", t.count('Chintu'))\n",
    "print(\"Number of ones in the tuple are\" \" \", freq)\n"
   ]
  },
  {
   "cell_type": "code",
   "execution_count": 21,
   "id": "90c1591c",
   "metadata": {},
   "outputs": [
    {
     "name": "stdout",
     "output_type": "stream",
     "text": [
      "The index of the first occurence of the chintu is   3\n"
     ]
    }
   ],
   "source": [
    "t = (1,2,1,'Chintu',1,'Chintu',1,'Chintu')      #To check the index of the first occurence of an element of an tuple\n",
    "indi = t.index('Chintu')\n",
    "print(\"The index of the first occurence of the chintu is \" \" \" , indi)\n"
   ]
  },
  {
   "cell_type": "code",
   "execution_count": 23,
   "id": "9509efa8",
   "metadata": {},
   "outputs": [
    {
     "name": "stdout",
     "output_type": "stream",
     "text": [
      "True\n",
      "False\n"
     ]
    }
   ],
   "source": [
    "t = (1,2,1,'Chintu',1,'Chintu',1,'Chintu')   #check if an element is present in the tuple by using 'in' keyword.\n",
    "print('Chintu' in t)\n",
    "print(100 in t)\n"
   ]
  },
  {
   "cell_type": "code",
   "execution_count": 24,
   "id": "a1e97119",
   "metadata": {},
   "outputs": [
    {
     "name": "stdout",
     "output_type": "stream",
     "text": [
      "8\n"
     ]
    }
   ],
   "source": [
    "t = (1,2,1,'Chintu',1,'Chintu',1,'Chintu')               # to print the length of the tuple.\n",
    "print(len(t))\n"
   ]
  },
  {
   "cell_type": "code",
   "execution_count": 26,
   "id": "4696d891",
   "metadata": {},
   "outputs": [
    {
     "name": "stdout",
     "output_type": "stream",
     "text": [
      "Original tuple  (3, 2, 1, 6, 5, 4, 9, 8, 7)\n",
      "New tuple  [1, 2, 3, 4, 5, 6, 7, 8, 9]\n"
     ]
    }
   ],
   "source": [
    "t = (3,2,1,6,5,4,9,8,7)\n",
    "sorted_tuple = sorted(t)\n",
    "print(\"Original tuple\" \" \", t)\n",
    "print(\"New tuple\" \" \", sorted_tuple)\n"
   ]
  },
  {
   "cell_type": "code",
   "execution_count": null,
   "id": "c40c8b84",
   "metadata": {},
   "outputs": [],
   "source": []
  }
 ],
 "metadata": {
  "kernelspec": {
   "display_name": "Python 3 (ipykernel)",
   "language": "python",
   "name": "python3"
  },
  "language_info": {
   "codemirror_mode": {
    "name": "ipython",
    "version": 3
   },
   "file_extension": ".py",
   "mimetype": "text/x-python",
   "name": "python",
   "nbconvert_exporter": "python",
   "pygments_lexer": "ipython3",
   "version": "3.10.4"
  }
 },
 "nbformat": 4,
 "nbformat_minor": 5
}
