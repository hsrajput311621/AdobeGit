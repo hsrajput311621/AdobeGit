{
 "cells": [
  {
   "cell_type": "code",
   "execution_count": 10,
   "id": "95ecf481",
   "metadata": {},
   "outputs": [
    {
     "name": "stdout",
     "output_type": "stream",
     "text": [
      "Enter the year to check the leap year1984\n",
      "This is a leap year\n"
     ]
    }
   ],
   "source": [
    "num = int(input(\"Enter the year to check the leap year\")) # centurian year 1500,1600,1700: we need to do modulas by 400\n",
    "if num % 400 == 0:\n",
    "    print(\"This is a leap year\")\n",
    "elif num % 4 == 0 and num % 100!= 0:             # the centurian can divide by 4 and all centurian year are not leap year.\n",
    "    print(\"This is a leap year\")\n",
    "else:\n",
    "    print(\"This is not a leap year\")\n"
   ]
  },
  {
   "cell_type": "code",
   "execution_count": 9,
   "id": "18458960",
   "metadata": {},
   "outputs": [
    {
     "name": "stdout",
     "output_type": "stream",
     "text": [
      "Enter the year to check the leap year1988\n",
      "The year is not a leap year\n"
     ]
    }
   ],
   "source": [
    "num = int(input(\"Enter the year to check the leap year\")) # centurian year 1500,1600,1700: we need to do modulas by 400\n",
    "if num %400 == 0 and num %4 == 0:\n",
    "    print(\"The year is a leap year\")\n",
    "else:\n",
    "    print(\"The year is not a leap year\")\n",
    "    "
   ]
  },
  {
   "cell_type": "code",
   "execution_count": null,
   "id": "798512f4",
   "metadata": {},
   "outputs": [],
   "source": []
  }
 ],
 "metadata": {
  "kernelspec": {
   "display_name": "Python 3 (ipykernel)",
   "language": "python",
   "name": "python3"
  },
  "language_info": {
   "codemirror_mode": {
    "name": "ipython",
    "version": 3
   },
   "file_extension": ".py",
   "mimetype": "text/x-python",
   "name": "python",
   "nbconvert_exporter": "python",
   "pygments_lexer": "ipython3",
   "version": "3.10.4"
  }
 },
 "nbformat": 4,
 "nbformat_minor": 5
}
