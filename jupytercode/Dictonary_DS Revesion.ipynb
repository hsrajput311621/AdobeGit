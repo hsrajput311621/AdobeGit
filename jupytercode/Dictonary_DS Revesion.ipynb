{
 "cells": [
  {
   "cell_type": "code",
   "execution_count": 1,
   "id": "2532fa4a",
   "metadata": {},
   "outputs": [
    {
     "name": "stdout",
     "output_type": "stream",
     "text": [
      "{1: 'abc', 2: 'xyz'}\n"
     ]
    }
   ],
   "source": [
    "# it is a collection of key:value pairs of data, do not allow duplicates, it is ordered collection of elements and mutable.\n",
    "my_dict = {1:'abc', 2: 'xyz'}\n",
    "print(my_dict)\n"
   ]
  },
  {
   "cell_type": "code",
   "execution_count": 2,
   "id": "c2713050",
   "metadata": {},
   "outputs": [
    {
     "name": "stdout",
     "output_type": "stream",
     "text": [
      "{'name': 'chintu', 1: ['abc', 'xyz']}\n"
     ]
    }
   ],
   "source": [
    "my_dict = {'name':'chintu', 1: ['abc', 'xyz']}  #dict with mix keys\n",
    "print(my_dict)"
   ]
  },
  {
   "cell_type": "code",
   "execution_count": 5,
   "id": "dfc5fc2a",
   "metadata": {},
   "outputs": [
    {
     "name": "stdout",
     "output_type": "stream",
     "text": [
      "{1: 'abc', 2: 'xyz'}\n"
     ]
    }
   ],
   "source": [
    "my_dict = dict([(1,'abc'), (2,'xyz')])  #dict with list of tuples\n",
    "print(my_dict)\n"
   ]
  },
  {
   "cell_type": "code",
   "execution_count": 6,
   "id": "77357a57",
   "metadata": {},
   "outputs": [
    {
     "name": "stdout",
     "output_type": "stream",
     "text": [
      "nibba\n"
     ]
    }
   ],
   "source": [
    "my_dict = {'name':'nibba', 'age':21, 'address':'mumbai'}\n",
    "print(my_dict['name'])\n"
   ]
  },
  {
   "cell_type": "code",
   "execution_count": 8,
   "id": "06351f53",
   "metadata": {},
   "outputs": [
    {
     "name": "stdout",
     "output_type": "stream",
     "text": [
      "{'name': 'nibbi', 'age': 21, 'address': 'mumbai'}\n"
     ]
    }
   ],
   "source": [
    "my_dict = {'name':'nibba', 'age':21, 'address':'mumbai'}\n",
    "my_dict['name']= 'nibbi'\n",
    "print(my_dict)"
   ]
  },
  {
   "cell_type": "code",
   "execution_count": 9,
   "id": "20fb8ec7",
   "metadata": {},
   "outputs": [
    {
     "name": "stdout",
     "output_type": "stream",
     "text": [
      "{'name': 'nibbi', 'age': 21, 'address': 'mumbai', 'degree': 'M-tech'}\n"
     ]
    }
   ],
   "source": [
    "my_dict['degree'] = 'M-tech'\n",
    "print(my_dict)"
   ]
  },
  {
   "cell_type": "code",
   "execution_count": null,
   "id": "3493a95e",
   "metadata": {},
   "outputs": [],
   "source": [
    "my_dict = {'name':'nibba', 'age':21, 'address':'mumbai'}\n",
    "my_dict.pop('age')\n",
    "print(my_dict)"
   ]
  }
 ],
 "metadata": {
  "kernelspec": {
   "display_name": "Python 3 (ipykernel)",
   "language": "python",
   "name": "python3"
  },
  "language_info": {
   "codemirror_mode": {
    "name": "ipython",
    "version": 3
   },
   "file_extension": ".py",
   "mimetype": "text/x-python",
   "name": "python",
   "nbconvert_exporter": "python",
   "pygments_lexer": "ipython3",
   "version": "3.10.4"
  }
 },
 "nbformat": 4,
 "nbformat_minor": 5
}
