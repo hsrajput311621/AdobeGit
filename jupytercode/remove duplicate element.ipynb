{
 "cells": [
  {
   "cell_type": "code",
   "execution_count": 10,
   "id": "cefc71fa",
   "metadata": {},
   "outputs": [
    {
     "name": "stdout",
     "output_type": "stream",
     "text": [
      "{40, 10, 50, 20, 30}\n",
      "[40, 10, 50, 20, 30]\n",
      "[10, 20, 30, 40, 50]\n"
     ]
    }
   ],
   "source": [
    "l = [10,20,30,10,10,10,40,40,50,50]          # manual list with repeated number \n",
    "s = set(l)\n",
    "print(s)\n",
    "new_list = list(s)\n",
    "print(new_list)\n",
    "new_list.sort()\n",
    "print(new_list)"
   ]
  },
  {
   "cell_type": "code",
   "execution_count": null,
   "id": "c9d8c0cb",
   "metadata": {},
   "outputs": [],
   "source": [
    "lst = []                      # user will enter the element of the list and remove the duplicate number\n",
    "size = int(input(\"Enter the size of the list\"))\n",
    "for i in range(size):\n",
    "    ele = int(input())\n",
    "    lst.append(ele)\n",
    "s = set(lst)\n",
    "newlst = list(s)\n",
    "newlst.sort()\n",
    "print(newlst)"
   ]
  },
  {
   "cell_type": "code",
   "execution_count": null,
   "id": "94fb42ba",
   "metadata": {},
   "outputs": [],
   "source": [
    "for i in range(1,11):\n",
    "    print(i, end = \" \" )"
   ]
  },
  {
   "cell_type": "code",
   "execution_count": 41,
   "id": "75c486ee",
   "metadata": {},
   "outputs": [
    {
     "name": "stdout",
     "output_type": "stream",
     "text": [
      "Enter the prime to find next prime21\n",
      "23\n"
     ]
    }
   ],
   "source": [
    "def nextprime(n):             #program to find the next prime of the given prime number\n",
    "    while True:\n",
    "        n+=1\n",
    "        for i in range(2,n):\n",
    "            if (n % i) == 0:\n",
    "                break\n",
    "        else:\n",
    "            return n\n",
    "num = int(input(\"Enter the prime to find next prime\")) \n",
    "print(nextprime(num))"
   ]
  },
  {
   "cell_type": "code",
   "execution_count": 43,
   "id": "e4e43a51",
   "metadata": {},
   "outputs": [
    {
     "name": "stdout",
     "output_type": "stream",
     "text": [
      "[8, 7, 6, 5, 4, 3, 2, 1]\n",
      "(8, 7, 6, 5, 4, 3, 2, 1)\n"
     ]
    }
   ],
   "source": [
    "#program to find the reverse of tuple\n",
    "t = (1,2,3,4,5,6,7,8)\n",
    "lst = list(t)\n",
    "lst.reverse()\n",
    "print(lst)\n",
    "newtuple = tuple(lst)\n",
    "print(newtuple)\n"
   ]
  },
  {
   "cell_type": "code",
   "execution_count": 47,
   "id": "f30c370e",
   "metadata": {},
   "outputs": [
    {
     "name": "stdout",
     "output_type": "stream",
     "text": [
      "Enter the size of an tuple4\n",
      "Enter the elements of the tuple as per the size1\n",
      "Enter the elements of the tuple as per the size2\n",
      "Enter the elements of the tuple as per the size3\n",
      "Enter the elements of the tuple as per the size4\n",
      "The reversed list is  [8, 7, 6, 5, 4, 3, 2, 1]\n",
      "The new reversed tuple from the list is   (4, 3, 2, 1)\n"
     ]
    }
   ],
   "source": [
    "oldlst = []                     # user to add list and change in into the tuple.\n",
    "size = int((input)(\"Enter the size of an tuple\"))\n",
    "for i in range(size):\n",
    "    ele = int(input(\"Enter the elements of the tuple as per the size\"))\n",
    "    oldlst.append(ele)\n",
    "oldlst.reverse()\n",
    "print(\"The reversed list is\" \" \", lst)\n",
    "new_tuple = tuple(oldlst)\n",
    "print(\"The new reversed tuple from the list is \" \" \", new_tuple)\n"
   ]
  },
  {
   "cell_type": "code",
   "execution_count": 51,
   "id": "f774d049",
   "metadata": {},
   "outputs": [
    {
     "name": "stdout",
     "output_type": "stream",
     "text": [
      "Enter the element with coma separated1,2,3,4,5,6\n",
      "(1, 2, 3, 4, 5, 6)\n",
      "[1, 2, 3, 4, 5, 6]\n"
     ]
    }
   ],
   "source": [
    "# single line option to add the elements in the tuple\n",
    "lst = eval(input(\"Enter the element with coma separated\"))\n",
    "print(lst)\n",
    "l = list(t)\n",
    "print(l)\n"
   ]
  },
  {
   "cell_type": "code",
   "execution_count": 56,
   "id": "a25c1400",
   "metadata": {},
   "outputs": [
    {
     "name": "stdout",
     "output_type": "stream",
     "text": [
      "Enter the number to find the factorial5\n",
      "120\n"
     ]
    }
   ],
   "source": [
    "  # single line code for factorial of a number\n",
    "num = int(input(\"Enter the number to find the factorial\"))\n",
    "fact = 1\n",
    "for i in range(1,num+1):\n",
    "    fact = fact*i\n",
    "print(fact)\n",
    "    "
   ]
  },
  {
   "cell_type": "code",
   "execution_count": 5,
   "id": "c7f0da5b",
   "metadata": {},
   "outputs": [
    {
     "name": "stdout",
     "output_type": "stream",
     "text": [
      "{'c', 'a', 'b'}\n",
      "['a', 'b', 'c']\n",
      "abc\n"
     ]
    }
   ],
   "source": [
    "# program to remove duplicats from the string\n",
    "\n",
    "#s = \"this is the string which has duplicate entry\"\n",
    "s = \"abcabcabcabcabc\"\n",
    "strnew = \"\"\n",
    "# first to change the string into the set to remove the duplicate entries.\n",
    "sets = set(s)\n",
    "print(sets)\n",
    "newlist = list(sets)  # conversion of sets into list\n",
    "newlist.sort()    # function to sort the character in the alphabetical order\n",
    "print(newlist)\n",
    "for i in newlist:\n",
    "    strnew +=i\n",
    "print(strnew)\n",
    "    "
   ]
  },
  {
   "cell_type": "code",
   "execution_count": 7,
   "id": "f3516924",
   "metadata": {},
   "outputs": [
    {
     "name": "stdout",
     "output_type": "stream",
     "text": [
      "this erngwcaduply\n"
     ]
    }
   ],
   "source": [
    "s = \"this is the string which has duplicate entry\"   # remove duplicate using index function\n",
    "str1 = \"\"\n",
    "x = 0\n",
    "for i in s:\n",
    "    if(s.index(i)==x):\n",
    "        str1+=i\n",
    "    x+=1\n",
    "print(str1)\n",
    "\n",
    "    \n",
    "    "
   ]
  },
  {
   "cell_type": "code",
   "execution_count": 14,
   "id": "e98b84f1",
   "metadata": {},
   "outputs": [
    {
     "name": "stdout",
     "output_type": "stream",
     "text": [
      "[1, 4, 9, 16, 25, 36]\n",
      "91\n"
     ]
    }
   ],
   "source": [
    "# sum of the squares of the number:\n",
    "lst = [1,2,3,4,5,6]\n",
    "lst1 = []\n",
    "for i in lst:\n",
    "    square = i*i\n",
    "    lst1.append(square)\n",
    "print(lst1)\n",
    "sum = 0\n",
    "for i in lst1:\n",
    "    sum = sum+i\n",
    "print(sum)\n",
    "\n"
   ]
  },
  {
   "cell_type": "code",
   "execution_count": 16,
   "id": "0782b594",
   "metadata": {},
   "outputs": [
    {
     "name": "stdout",
     "output_type": "stream",
     "text": [
      "oh ehr uik ruhG\n",
      "oh ehr uik ruhG\n"
     ]
    }
   ],
   "source": [
    "# reverse the string using slicing\n",
    "s = \"Ghur kiu rhe ho\"\n",
    "print(s[-1::-1])\n",
    "print(s[::-1])"
   ]
  },
  {
   "cell_type": "code",
   "execution_count": null,
   "id": "e8cf8cc1",
   "metadata": {},
   "outputs": [],
   "source": [
    "# sort in dictionary order\n",
    "using sorted function"
   ]
  },
  {
   "cell_type": "code",
   "execution_count": 17,
   "id": "68f466cb",
   "metadata": {},
   "outputs": [
    {
     "name": "stdout",
     "output_type": "stream",
     "text": [
      "Enter the first number96\n",
      "Enter the second number36\n",
      "hcf of the two numbers are  12\n",
      "LCM of the two numbers are  288\n"
     ]
    }
   ],
   "source": [
    "#LCM and HCF by Euclid Algorithm:  # LCM 0f 4 and 8 \n",
    "#HCF * LCM = A*B(product of two number)\n",
    "a = int(input(\"Enter the first number\"))\n",
    "b = int(input(\"Enter the second number\"))\n",
    "if a>b:\n",
    "    k = a\n",
    "else:\n",
    "    k =b\n",
    "bigger = k\n",
    "for i in range(bigger,a*b+1):\n",
    "    if i%a == 0 and i%b ==0:\n",
    "        break\n",
    "lcm = i\n",
    "hcf = a*b//lcm\n",
    "print(\"hcf of the two numbers are\" \" \", hcf)\n",
    "print(\"LCM of the two numbers are\" \" \", lcm)\n"
   ]
  },
  {
   "cell_type": "code",
   "execution_count": null,
   "id": "b3191d01",
   "metadata": {},
   "outputs": [],
   "source": []
  }
 ],
 "metadata": {
  "kernelspec": {
   "display_name": "Python 3 (ipykernel)",
   "language": "python",
   "name": "python3"
  },
  "language_info": {
   "codemirror_mode": {
    "name": "ipython",
    "version": 3
   },
   "file_extension": ".py",
   "mimetype": "text/x-python",
   "name": "python",
   "nbconvert_exporter": "python",
   "pygments_lexer": "ipython3",
   "version": "3.10.4"
  }
 },
 "nbformat": 4,
 "nbformat_minor": 5
}
