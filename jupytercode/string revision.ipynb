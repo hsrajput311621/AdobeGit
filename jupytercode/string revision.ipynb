{
 "cells": [
  {
   "cell_type": "code",
   "execution_count": 4,
   "id": "dcf41f65",
   "metadata": {},
   "outputs": [
    {
     "name": "stdout",
     "output_type": "stream",
     "text": [
      "g\n",
      "llo\n",
      "gnirts si siht olleH\n",
      "['H', 'e', 'l', 'l', 'o', ' ', 't', 'h', 'i', 's', ' ', 'i', 's', ' ', 's', 't', 'r', 'i', 'n', 'g']\n",
      "('H', 'e', 'l', 'l', 'o', ' ', 't', 'h', 'i', 's', ' ', 'i', 's', ' ', 's', 't', 'r', 'i', 'n', 'g')\n"
     ]
    }
   ],
   "source": [
    "mystring = \"Hello this is string\"            #string is immutable\n",
    "print(mystring[-1]) \n",
    "print(mystring[2:5])\n",
    "print(mystring[-1::-1])\n",
    "list1 = list(mystring)\n",
    "print(list1)\n",
    "tuple1 = tuple(mystring)\n",
    "print(tuple1)"
   ]
  },
  {
   "cell_type": "code",
   "execution_count": 5,
   "id": "bf1cb2a5",
   "metadata": {},
   "outputs": [],
   "source": [
    "del mystring     \n"
   ]
  },
  {
   "cell_type": "code",
   "execution_count": 6,
   "id": "c4610659",
   "metadata": {},
   "outputs": [
    {
     "ename": "NameError",
     "evalue": "name 'mystring' is not defined",
     "output_type": "error",
     "traceback": [
      "\u001b[1;31m---------------------------------------------------------------------------\u001b[0m",
      "\u001b[1;31mNameError\u001b[0m                                 Traceback (most recent call last)",
      "Cell \u001b[1;32mIn [6], line 1\u001b[0m\n\u001b[1;32m----> 1\u001b[0m \u001b[38;5;28mprint\u001b[39m(\u001b[43mmystring\u001b[49m)\n",
      "\u001b[1;31mNameError\u001b[0m: name 'mystring' is not defined"
     ]
    }
   ],
   "source": [
    "print(mystring)"
   ]
  },
  {
   "cell_type": "code",
   "execution_count": 9,
   "id": "ac1879ae",
   "metadata": {},
   "outputs": [
    {
     "name": "stdout",
     "output_type": "stream",
     "text": [
      "Hello this is string  Chintu Mintu\n"
     ]
    }
   ],
   "source": [
    "mystring = \"Hello this is string \"\n",
    "string2 = \" Chintu Mintu\"\n",
    "print(mystring + string2)\n"
   ]
  },
  {
   "cell_type": "code",
   "execution_count": 13,
   "id": "fbd9b4dd",
   "metadata": {},
   "outputs": [
    {
     "name": "stdout",
     "output_type": "stream",
     "text": [
      "2\n"
     ]
    }
   ],
   "source": [
    "# count the frequency of the element in string\n",
    "count = 0\n",
    "mystring = \"Hello this is string \"\n",
    "for i in mystring:\n",
    "    if i == 'l':\n",
    "        count +=1\n",
    "print(count)"
   ]
  },
  {
   "cell_type": "code",
   "execution_count": 14,
   "id": "4c0b2141",
   "metadata": {},
   "outputs": [
    {
     "name": "stdout",
     "output_type": "stream",
     "text": [
      "True\n",
      "True\n"
     ]
    }
   ],
   "source": [
    "# to check the element in the string\n",
    "print('l' in \"hello world\")\n",
    "print('z' not in \"Hitesh\")\n"
   ]
  },
  {
   "cell_type": "code",
   "execution_count": 16,
   "id": "44588605",
   "metadata": {},
   "outputs": [
    {
     "name": "stdout",
     "output_type": "stream",
     "text": [
      "['sb', 'moh', 'maya', 'hai']\n"
     ]
    }
   ],
   "source": [
    "# to split the string\n",
    "s = \"sb moh maya hai\"\n",
    "l = s.split()\n",
    "print(l)\n",
    "\n"
   ]
  },
  {
   "cell_type": "code",
   "execution_count": 17,
   "id": "57f492d9",
   "metadata": {},
   "outputs": [
    {
     "data": {
      "text/plain": [
       "'sb_moh_maya_hai'"
      ]
     },
     "execution_count": 17,
     "metadata": {},
     "output_type": "execute_result"
    }
   ],
   "source": [
    "# join the string with special character\n",
    "'_'.join(['sb', 'moh', 'maya', 'hai'])\n"
   ]
  },
  {
   "cell_type": "code",
   "execution_count": 20,
   "id": "4a1070db",
   "metadata": {},
   "outputs": [
    {
     "name": "stdout",
     "output_type": "stream",
     "text": [
      "14\n"
     ]
    }
   ],
   "source": [
    "# search the element in string\n",
    "s = \"Hello this is string\"\n",
    "fin = s.find(\"str\")\n",
    "print(fin)"
   ]
  },
  {
   "cell_type": "code",
   "execution_count": 27,
   "id": "5c48f391",
   "metadata": {},
   "outputs": [
    {
     "name": "stdout",
     "output_type": "stream",
     "text": [
      "buffalo this is string\n"
     ]
    }
   ],
   "source": [
    "# replace string with another string\n",
    "s = \"Hello this is string\"\n",
    "news = s.replace(\"Hello\", \"Buffalo\")\n",
    "print(news)"
   ]
  },
  {
   "cell_type": "code",
   "execution_count": 37,
   "id": "6539f999",
   "metadata": {},
   "outputs": [
    {
     "name": "stdout",
     "output_type": "stream",
     "text": [
      "palindrom\n"
     ]
    }
   ],
   "source": [
    "# check the givin string is a pallindrome\n",
    "mystr = \"Nitin\"\n",
    "mystr = mystr.lower()\n",
    "revstr = reversed(mystr)\n",
    "if list(mystr) == list(revstr):\n",
    "    print(\"palindrom\")\n",
    "else:\n",
    "    print(\"not palindrom\")\n",
    "\n"
   ]
  },
  {
   "cell_type": "code",
   "execution_count": 38,
   "id": "76bd7c28",
   "metadata": {},
   "outputs": [
    {
     "name": "stdout",
     "output_type": "stream",
     "text": [
      "['Python', 'program', 'to', 'sort', 'the', 'words', 'in', 'Alphabetical', 'order']\n",
      "['Alphabetical', 'Python', 'in', 'order', 'program', 'sort', 'the', 'to', 'words']\n"
     ]
    }
   ],
   "source": [
    "mystr = \"Python program to sort the words in Alphabetical order\"\n",
    "mystr = mystr.split()\n",
    "reversed_string = sorted(mystr)\n",
    "print(mystr)\n",
    "print(reversed_string)"
   ]
  },
  {
   "cell_type": "code",
   "execution_count": null,
   "id": "f6b54037",
   "metadata": {},
   "outputs": [],
   "source": []
  }
 ],
 "metadata": {
  "kernelspec": {
   "display_name": "Python 3 (ipykernel)",
   "language": "python",
   "name": "python3"
  },
  "language_info": {
   "codemirror_mode": {
    "name": "ipython",
    "version": 3
   },
   "file_extension": ".py",
   "mimetype": "text/x-python",
   "name": "python",
   "nbconvert_exporter": "python",
   "pygments_lexer": "ipython3",
   "version": "3.10.4"
  }
 },
 "nbformat": 4,
 "nbformat_minor": 5
}
